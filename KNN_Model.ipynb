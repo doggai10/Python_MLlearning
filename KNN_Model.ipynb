{
 "cells": [
  {
   "cell_type": "code",
   "execution_count": null,
   "metadata": {},
   "outputs": [],
   "source": [
    "import numpy as np\n",
    "import pandas as pd\n",
    "import matplotlib.pyplot as plt"
   ]
  },
  {
   "cell_type": "code",
   "execution_count": null,
   "metadata": {},
   "outputs": [],
   "source": [
    "pd.set_option('display.max_columns', 500)\n",
    "pd.set_option('display.max_rows',   5000)"
   ]
  },
  {
   "cell_type": "code",
   "execution_count": null,
   "metadata": {},
   "outputs": [],
   "source": [
    "for i in range(1,51):\n",
    "    s1= \"site%da = pd.read_csv('./TrainingData/Fault1_Train%d', header=None)\"%(i,i)\n",
    "    s2= \"site%dc = pd.read_csv('./TrainingData/Fault2_Train%d', header=None)\"%(i,i)\n",
    "    exec(s1)\n",
    "    exec(s2)\n",
    "    \n",
    "    if i%10 == 0:\n",
    "        print(i)"
   ]
  },
  {
   "cell_type": "code",
   "execution_count": null,
   "metadata": {},
   "outputs": [],
   "source": [
    "site1a[0]"
   ]
  },
  {
   "cell_type": "code",
   "execution_count": null,
   "metadata": {},
   "outputs": [],
   "source": [
    "site1c"
   ]
  },
  {
   "cell_type": "code",
   "execution_count": null,
   "metadata": {},
   "outputs": [],
   "source": [
    "def rms(x):\n",
    "    return np.sqrt(np.mean(x**2))"
   ]
  },
  {
   "cell_type": "code",
   "execution_count": null,
   "metadata": {},
   "outputs": [],
   "source": [
    "NoOfSensor  = 4\n",
    "NoOfFeature = 5\n",
    "NoOfData    = 50\n",
    "\n",
    "FeatureData_Fault1 = np.zeros((NoOfSensor*NoOfFeature , NoOfData))\n",
    "FeatureData_Fault2 = np.zeros((NoOfSensor*NoOfFeature , NoOfData))\n",
    "# 특징추출 코드 작성\n",
    "\n",
    "for i in range(NoOfData):\n",
    "    \n",
    "    s1 = 'temp_data1=site%da'%(i+1) \n",
    "    s2 = 'temp_data2=site%dc'%(i+1)\n",
    "    exec(s1)\n",
    "    exec(s2)\n",
    "    for j in range(NoOfSensor):\n",
    "        \n",
    "        FeatureData_Fault1[5*j+0, i] = np.max(temp_data1.iloc[:,j])\n",
    "        FeatureData_Fault1[5*j+1, i] = np.min(temp_data1.iloc[:,j])\n",
    "        FeatureData_Fault1[5*j+2, i] = np.mean(temp_data1.iloc[:,j])\n",
    "        FeatureData_Fault1[5*j+3, i] = rms(temp_data1.iloc[:,j])\n",
    "        FeatureData_Fault1[5*j+4, i] = np.var(temp_data1.iloc[:,j])\n",
    "        \n",
    "        FeatureData_Fault2[5*j+0, i] = np.max(temp_data2.iloc[:,j])\n",
    "        FeatureData_Fault2[5*j+1, i] = np.min(temp_data2.iloc[:,j])\n",
    "        FeatureData_Fault2[5*j+2, i] = np.mean(temp_data2.iloc[:,j])\n",
    "        FeatureData_Fault2[5*j+3, i] = rms(temp_data2.iloc[:,j])\n",
    "        FeatureData_Fault2[5*j+4, i] = np.var(temp_data2.iloc[:,j])\n",
    "\n",
    "        \n",
    "print(FeatureData_Fault1.shape)\n",
    "print(FeatureData_Fault2.shape) "
   ]
  },
  {
   "cell_type": "code",
   "execution_count": null,
   "metadata": {},
   "outputs": [],
   "source": [
    "FeatureData_Fault1_df = pd.DataFrame(FeatureData_Fault1)\n",
    "FeatureData_Fault1_df"
   ]
  },
  {
   "cell_type": "code",
   "execution_count": null,
   "metadata": {},
   "outputs": [],
   "source": [
    "FeatureData_Fault2_df = pd.DataFrame(FeatureData_Fault2)\n",
    "FeatureData_Fault2_df"
   ]
  },
  {
   "cell_type": "code",
   "execution_count": null,
   "metadata": {},
   "outputs": [],
   "source": [
    "import seaborn           as sb\n",
    "import scipy.stats       as sp"
   ]
  },
  {
   "cell_type": "code",
   "execution_count": null,
   "metadata": {},
   "outputs": [],
   "source": [
    "NoOfData    = int(FeatureData_Fault1_df.shape[1])  \n",
    "NoOfFeature = int(FeatureData_Fault1_df.shape[0])\n",
    "\n",
    "P_value = np.zeros((NoOfFeature , 2))\n",
    "\n",
    "for i in np.arange(NoOfFeature):\n",
    "    \n",
    "    T_test       = np.array(sp.ttest_ind(FeatureData_Fault1_df.iloc[i,:] , FeatureData_Fault2_df.iloc[i,:]))\n",
    "    P_value[i,0] = i          \n",
    "    P_value[i,1] = T_test[1]  \n",
    "    \n",
    "P_value      = pd.DataFrame(P_value)\n",
    "P_value"
   ]
  },
  {
   "cell_type": "code",
   "execution_count": null,
   "metadata": {},
   "outputs": [],
   "source": [
    "P_value_Rank = P_value.sort_values([1],ascending=True)  \n",
    "P_value_Rank"
   ]
  },
  {
   "cell_type": "code",
   "execution_count": null,
   "metadata": {},
   "outputs": [],
   "source": [
    "path = './MLmodel/P_value_Rank'  \n",
    "P_value_Rank.to_csv(path, sep=',', header=None, index=None)"
   ]
  },
  {
   "cell_type": "code",
   "execution_count": null,
   "metadata": {},
   "outputs": [],
   "source": [
    "Rank =   14     \n",
    "\n",
    "FeatureSelected_Fault1 = np.zeros((Rank,NoOfData))\n",
    "FeatureSelected_Fault2 = np.zeros((Rank,NoOfData))\n",
    "\n",
    "\n",
    "for i in range(Rank):\n",
    "    \n",
    "    index         = int(P_value_Rank.iloc[i,0])\n",
    "    FeatureSelected_Fault1[i,:]   = FeatureData_Fault1_df.iloc[index,:].values\n",
    "    FeatureSelected_Fault2[i,:] = FeatureData_Fault2_df.iloc[index,:].values\n",
    "\n",
    "FeatureSelected = pd.DataFrame(np.concatenate([FeatureSelected_Fault1, FeatureSelected_Fault2] , axis=1))\n",
    "\n",
    "print(FeatureSelected.shape)  "
   ]
  },
  {
   "cell_type": "code",
   "execution_count": null,
   "metadata": {},
   "outputs": [],
   "source": [
    "import pandas as pd\n",
    "import numpy as np\n",
    "import matplotlib.pyplot as plt"
   ]
  },
  {
   "cell_type": "code",
   "execution_count": null,
   "metadata": {},
   "outputs": [],
   "source": [
    "NoOfData   = int(FeatureSelected.shape[1]/2)   # 데이터 개수 (정상/고장 각각) 각각 180개씩 \n",
    "Fold       = 7                   # Fold 개수 선정 : 데이터 개수의 약수여야 함.\n",
    "\n",
    "FeatNo     = int(FeatureSelected.shape[0])  # 데이터 특징 수 (=데이터 차원)\n",
    "FoldDataNo = int(NoOfData/Fold)            # 1개 Fold 당 (검증)데이터 개수\n",
    "\n",
    "print(FeatNo)\n",
    "print(FoldDataNo)"
   ]
  },
  {
   "cell_type": "code",
   "execution_count": null,
   "metadata": {},
   "outputs": [],
   "source": [
    "NormalSet   = np.array(FeatureSelected.iloc[: , :NoOfData])\n",
    "AbnormalSet = np.array(FeatureSelected.iloc[: , NoOfData:])\n",
    "FeatureSelected_Reshaped = pd.DataFrame(np.concatenate([NormalSet , AbnormalSet] , axis=0))\n",
    "FeatureSelected_Reshaped.shape"
   ]
  },
  {
   "cell_type": "code",
   "execution_count": null,
   "metadata": {},
   "outputs": [],
   "source": [
    "# Validation Data set\n",
    "for i in range(Fold):\n",
    "    \n",
    "    temp_Valid_Normal   = FeatureSelected_Reshaped.iloc[:FeatNo , FoldDataNo*i : FoldDataNo*(i+1)]\n",
    "    temp_Valid_Abnormal = FeatureSelected_Reshaped.iloc[FeatNo: , FoldDataNo*i : FoldDataNo*(i+1)]\n",
    "    temp_Valid = pd.DataFrame(np.transpose(np.concatenate([temp_Valid_Normal, temp_Valid_Abnormal] , axis=1)))\n",
    "    \n",
    "    s = 'Validation_Fold%d = temp_Valid'%(i+1)\n",
    "    exec(s)\n",
    "\n",
    "    \n",
    "# Training Data set\n",
    "for i in range(Fold):\n",
    "    \n",
    "    temp_Train_Front = FeatureSelected_Reshaped.iloc[:,:FoldDataNo*i]\n",
    "    temp_Train_Back  = FeatureSelected_Reshaped.iloc[:,FoldDataNo*(i+1):]\n",
    "    temp_Train_Total = np.concatenate([temp_Train_Front , temp_Train_Back] , axis=1)\n",
    "    temp_Train_Final = pd.DataFrame(np.transpose(np.concatenate([temp_Train_Total[:FeatNo,:],temp_Train_Total[FeatNo:,:]] , axis=1)))\n",
    "    \n",
    "    s ='Training_Fold%d  = temp_Train_Final'%(i+1)\n",
    "    exec(s)\n"
   ]
  },
  {
   "cell_type": "code",
   "execution_count": null,
   "metadata": {},
   "outputs": [],
   "source": [
    "Validation_Fold1.shape"
   ]
  },
  {
   "cell_type": "code",
   "execution_count": null,
   "metadata": {},
   "outputs": [],
   "source": [
    "Training_Fold1.shape"
   ]
  },
  {
   "cell_type": "code",
   "execution_count": null,
   "metadata": {},
   "outputs": [],
   "source": [
    "NoOfLabel_Train = int(Training_Fold1.shape[0]/2)\n",
    "NoOfLabel_Valid = int(Validation_Fold1.shape[0]/2)\n",
    "\n",
    "print(NoOfLabel_Train)\n",
    "print(NoOfLabel_Valid)"
   ]
  },
  {
   "cell_type": "code",
   "execution_count": null,
   "metadata": {},
   "outputs": [],
   "source": [
    "TrainingFold_Label   = np.zeros(2*NoOfLabel_Train , dtype=int)\n",
    "ValidationFold_Label = np.zeros(2*NoOfLabel_Valid , dtype=int)\n",
    "\n",
    "# 고장데이터(학습용) Label 값 = 1\n",
    "TrainingFold_Label[NoOfLabel_Train:] = 1\n",
    "\n",
    "# 고장데이터(검증용) Label 값 = 1\n",
    "ValidationFold_Label[NoOfLabel_Valid:] = 1\n",
    "\n",
    "TrainingFold_Label   = pd.Series(TrainingFold_Label)\n",
    "ValidationFold_Label = pd.Series(ValidationFold_Label)\n",
    "\n",
    "#TrainingFold_Label\n",
    "ValidationFold_Label"
   ]
  },
  {
   "cell_type": "code",
   "execution_count": null,
   "metadata": {},
   "outputs": [],
   "source": [
    "Training_All = np.transpose(FeatureSelected)\n",
    "\n",
    "Training_All.shape"
   ]
  },
  {
   "cell_type": "code",
   "execution_count": null,
   "metadata": {},
   "outputs": [],
   "source": [
    "Training_All_Label = np.zeros(NoOfData*2)\n",
    "\n",
    "Training_All_Label[NoOfData:] = 1    # 고장데이터(학습용) Label 값 = 1\n",
    "Training_All_Label = pd.Series(Training_All_Label)\n",
    "\n",
    "Training_All_Label.shape"
   ]
  },
  {
   "cell_type": "code",
   "execution_count": null,
   "metadata": {},
   "outputs": [],
   "source": [
    "Add    = 0\n",
    "Divide = 0\n",
    "\n",
    "for i in range(Fold):\n",
    "    c1 = 'Training_CurrentFold = Training_Fold%d'%(i+1)\n",
    "    exec(c1)\n",
    "    c2 = 'Validation_CurrentFold = Validation_Fold%d'%(i+1)\n",
    "    exec(c2)    \n",
    "\n",
    "    knnModel_CurrentFold = KNeighborsClassifier(n_neighbors = 1).fit(Training_CurrentFold , TrainingFold_Label)\n",
    "    \n",
    "    c3 = 'knnscore_Fold%d = knnModel_CurrentFold.score(Validation_CurrentFold , ValidationFold_Label)'%(i+1)\n",
    "    exec(c3)\n",
    "        \n",
    "    Add += knnModel_CurrentFold.score(Validation_CurrentFold, ValidationFold_Label)\n",
    "    Divide += 1\n",
    "    \n",
    "Avg_accuracy = Add/Divide\n",
    "\n",
    "print('[Result of K-fold Cross Validation] \\n')\n",
    "print(' Fold 1: {:.2f}% \\n Fold 2: {:.2f}% \\n Fold 3: {:.2f}% \\n Fold 4: {:.2f}% \\n Fold 5: {:.2f}% \\n Fold 6: {:.2f}% \\n Fold 7: {:.2f}%'.\n",
    "        format(knnscore_Fold1*100, knnscore_Fold2*100, knnscore_Fold3*100, knnscore_Fold4*100, knnscore_Fold5*100,knnscore_Fold6*100,knnscore_Fold7*100))\n",
    "print('\\n Average accuracy: {:.2f}%'.format(Avg_accuracy*100))"
   ]
  },
  {
   "cell_type": "code",
   "execution_count": null,
   "metadata": {},
   "outputs": [],
   "source": [
    "KNN_model = KNeighborsClassifier(n_neighbors = 1).fit(Training_All , Training_All_Label)\n",
    "\n",
    "joblib.dump(KNN_model, './MLmodel/KNN_model.plk')"
   ]
  },
  {
   "cell_type": "code",
   "execution_count": null,
   "metadata": {},
   "outputs": [],
   "source": [
    "KNN_model_Final = joblib.load('./MLmodel/KNN_model.plk')"
   ]
  },
  {
   "cell_type": "code",
   "execution_count": null,
   "metadata": {},
   "outputs": [],
   "source": [
    "Add    = 0\n",
    "Divide = 0\n",
    "\n",
    "for i in range(Fold):\n",
    "    c1 = 'Validation_CurrentFold = Validation_Fold%d'%(i+1)\n",
    "    exec(c1)    \n",
    "    \n",
    "    c2 = 'knnscore_Fold%d = KNN_model_Final.score(Validation_CurrentFold , ValidationFold_Label)'%(i+1)\n",
    "    exec(c2)\n",
    "        \n",
    "    Add += KNN_model_Final.score(Validation_CurrentFold, ValidationFold_Label)\n",
    "    Divide += 1\n",
    "    \n",
    "Avg_accuracy = Add/Divide\n",
    "\n",
    "print('[Result of K-fold Cross Validation] \\n')\n",
    "print(' Fold 1: {:.2f}% \\n Fold 2: {:.2f}% \\n Fold 3: {:.2f}% \\n Fold 4: {:.2f}% \\n Fold 5: {:.2f}% \\n Fold 6: {:.2f}% \\n Fold 7: {:.2f}%'.\n",
    "        format(knnscore_Fold1*100, knnscore_Fold2*100, knnscore_Fold3*100, knnscore_Fold4*100, knnscore_Fold5*100,knnscore_Fold6*100,knnscore_Fold7*100))\n",
    "print('\\n Average accuracy: {:.2f}%'.format(Avg_accuracy*100))"
   ]
  }
 ],
 "metadata": {
  "kernelspec": {
   "display_name": "Python 3",
   "language": "python",
   "name": "python3"
  },
  "language_info": {
   "codemirror_mode": {
    "name": "ipython",
    "version": 3
   },
   "file_extension": ".py",
   "mimetype": "text/x-python",
   "name": "python",
   "nbconvert_exporter": "python",
   "pygments_lexer": "ipython3",
   "version": "3.6.10"
  }
 },
 "nbformat": 4,
 "nbformat_minor": 4
}
